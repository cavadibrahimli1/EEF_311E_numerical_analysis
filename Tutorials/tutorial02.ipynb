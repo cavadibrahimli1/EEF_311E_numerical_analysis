{
 "cells": [
  {
   "cell_type": "markdown",
   "id": "b1c73c3a",
   "metadata": {},
   "source": [
    "# Tutorial #2"
   ]
  },
  {
   "cell_type": "markdown",
   "id": "d46ecd99",
   "metadata": {},
   "source": [
    "1. Write a function `my_is_orthogonal(v1,v2,tol)` where `v1` and `v2` are column vectors of the same size, and `tol` is a scalar value strictly larger than zero. The output should be $1$ if the angle between `v1` and `v2` is within tol of $\\pi/2$, that is, $|\\pi/2 − \\theta|<$ `tol`, and zero otherwise. You may assume that `v1` and `v2` are column vectors of the same size, and that tol is a positive scalar."
   ]
  },
  {
   "cell_type": "code",
   "execution_count": null,
   "id": "2e81a6e9",
   "metadata": {},
   "outputs": [],
   "source": [
    "import numpy as np\n",
    "\n",
    "def my_is_orthogonal(v1,v2,tol):\n",
    "    absv1 = np.linalg.norm(v1)\n",
    "    absv2 = np.linalg.norm(v2)\n",
    "    \n",
    "    dotv1v2 = np.dot(v1, v2)\n",
    "    \n",
    "    angle = np.arccos(dotv1v2/(absv1*absv2))\n",
    "    \n",
    "     \n",
    "    if abs(np.pi/2 - angle) < tol:\n",
    "        isOrtogonal = 1\n",
    "    else:\n",
    "        isOrtogonal = 0\n",
    "    \n",
    "    return isOrtogonal"
   ]
  },
  {
   "cell_type": "code",
   "execution_count": null,
   "id": "11411144",
   "metadata": {},
   "outputs": [],
   "source": [
    "# Test cases\n",
    "a = np.array([1, 0.001])\n",
    "b = np.array([0.001, 1])\n",
    "\n",
    "my_is_orthogonal(a,b, 0.01)"
   ]
  },
  {
   "cell_type": "code",
   "execution_count": null,
   "id": "91f273b6",
   "metadata": {},
   "outputs": [],
   "source": [
    "my_is_orthogonal(a,b, 0.001)"
   ]
  },
  {
   "cell_type": "code",
   "execution_count": null,
   "id": "f1473b71",
   "metadata": {},
   "outputs": [],
   "source": [
    "a = np.array([1, 0.001])\n",
    "b = np.array([1, 1])\n",
    "\n",
    "my_is_orthogonal(a,b, 0.01)"
   ]
  },
  {
   "cell_type": "code",
   "execution_count": null,
   "id": "4b3b99e1",
   "metadata": {},
   "outputs": [],
   "source": [
    "a = np.array([1, 1])\n",
    "b = np.array([-1, 1])\n",
    "\n",
    "my_is_orthogonal(a,b, 1e-10)"
   ]
  },
  {
   "cell_type": "markdown",
   "id": "6e6862aa",
   "metadata": {},
   "source": [
    "2. Let $p$ be a vector with length $L$ containing the coefficients of a polynomial of order $L-1$. For example, the vector $p=[1,0,2]$ is a representation of the polynomial $f(x) = 1x^2 + 0x + 2$. Write a function `my_poly_der_mat(p)` where $p$ is the aforementioned vector, and the output $D$ is the matrix that will return the coefficients of the derivative of $p$ when $p$ is left multiplied by $D$. For example, the derivative of $f(x)$ is $f′(x) = 2x$; therefore, $d = Dp$ should yield $d = [2,0]$. Note this implies that the dimension of $D$ is $L−1\\times L$. The point of this problem is to show that differentiating polynomials is actually a linear transformation."
   ]
  },
  {
   "cell_type": "code",
   "execution_count": null,
   "id": "4550ae4b",
   "metadata": {},
   "outputs": [],
   "source": [
    "def my_poly_der_mat(p):\n",
    "    # Calculate the order L of the polynomial\n",
    "    L = len(p)\n",
    "\n",
    "    # Initialize an empty list for the rows of the matrix D\n",
    "    D = np.zeros((L-1,L))\n",
    "    \n",
    "    n = L-1\n",
    "    # Loop through the elements of p and construct the derivative matrix D\n",
    "    for i in range(0, L-1):\n",
    "        row = np.zeros((1,L))\n",
    "        row[:,i] = n\n",
    "        D[i,:] = row\n",
    "        n -= 1\n",
    "\n",
    "    return D"
   ]
  },
  {
   "cell_type": "code",
   "execution_count": null,
   "id": "6ff31385",
   "metadata": {},
   "outputs": [],
   "source": [
    "p = np.array([[1], [0], [2]])\n",
    "D = my_poly_der_mat(p)\n",
    "print(D)\n",
    "np.dot(D,p)"
   ]
  },
  {
   "cell_type": "code",
   "execution_count": null,
   "id": "4c618359",
   "metadata": {},
   "outputs": [],
   "source": [
    "p = np.array([[-2], [-3], [3], [1], [1]])\n",
    "D = my_poly_der_mat(p)\n",
    "print(D)\n",
    "np.dot(D,p)"
   ]
  }
 ],
 "metadata": {
  "kernelspec": {
   "display_name": "Python 3 (ipykernel)",
   "language": "python",
   "name": "python3"
  },
  "language_info": {
   "codemirror_mode": {
    "name": "ipython",
    "version": 3
   },
   "file_extension": ".py",
   "mimetype": "text/x-python",
   "name": "python",
   "nbconvert_exporter": "python",
   "pygments_lexer": "ipython3",
   "version": "3.9.7"
  }
 },
 "nbformat": 4,
 "nbformat_minor": 5
}

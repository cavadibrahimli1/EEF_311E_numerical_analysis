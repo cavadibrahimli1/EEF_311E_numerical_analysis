{
 "cells": [
  {
   "cell_type": "markdown",
   "id": "e984ace2",
   "metadata": {},
   "source": [
    "# Tutorial #1"
   ]
  },
  {
   "cell_type": "markdown",
   "id": "25159bd8",
   "metadata": {},
   "source": [
    "1) Under what conditions for $P$ and $Q$ is ($P\\ AND\\ Q)\\ OR\\ (P\\ AND\\ (NOT\\ Q)$) false?"
   ]
  },
  {
   "cell_type": "code",
   "execution_count": null,
   "id": "4ca74965",
   "metadata": {},
   "outputs": [],
   "source": [
    "for P in [True, False]:\n",
    "    for Q in [True, False]:\n",
    "        verify_st = (P and Q) or (P and (not Q))\n",
    "        if not verify_st:\n",
    "            print(f'P={P}, Q={Q}')"
   ]
  },
  {
   "cell_type": "code",
   "execution_count": null,
   "id": "dfa6778b",
   "metadata": {},
   "outputs": [],
   "source": [
    "%who"
   ]
  },
  {
   "cell_type": "code",
   "execution_count": null,
   "id": "106e5e5d",
   "metadata": {},
   "outputs": [],
   "source": [
    "%reset"
   ]
  },
  {
   "cell_type": "markdown",
   "id": "67bb228a",
   "metadata": {},
   "source": [
    "2. Let array_a be an array [-1, 0, 1, 2, 0, 3]. Write a command that will return an array consisting of all the elements of array_a that are larger than zero. Hint: Use logical expression as the index of the array."
   ]
  },
  {
   "cell_type": "code",
   "execution_count": null,
   "id": "f7ab0e47",
   "metadata": {},
   "outputs": [],
   "source": [
    "import numpy as np\n",
    "\n",
    "array_a = np.array([-1, 0, 1, 2, 0, 3])\n",
    "array_a[array_a>0]"
   ]
  },
  {
   "cell_type": "markdown",
   "id": "d8d873ad",
   "metadata": {},
   "source": [
    "3. Recall that the hyperbolic sine, denoted by $\\sinh$, is $\\frac{\\exp{(x)} - \\exp{(-x)}}{2}$. Write a function $my\\_sinh(x)$, where the output $y$ is the hyperbolic sine computed on $x$. Assume that _x_ is a 1 by 1 float."
   ]
  },
  {
   "cell_type": "code",
   "execution_count": null,
   "id": "6d843055",
   "metadata": {},
   "outputs": [],
   "source": [
    "my_sinh = lambda x: (np.exp(x) - np.exp(-x))/2\n",
    "    \n",
    "my_sinh(0)"
   ]
  },
  {
   "cell_type": "code",
   "execution_count": null,
   "id": "f9cfb971",
   "metadata": {},
   "outputs": [],
   "source": [
    "my_sinh(1)"
   ]
  },
  {
   "cell_type": "code",
   "execution_count": null,
   "id": "713adc5b",
   "metadata": {
    "scrolled": true
   },
   "outputs": [],
   "source": [
    "my_sinh(2)"
   ]
  },
  {
   "cell_type": "markdown",
   "id": "62bb7731",
   "metadata": {},
   "source": [
    "4. Write a function $my\\_cylinder(r,h)$, where *r* and *h* are the radius and height of a cylinder, respectively, and the output is a list *[s, v]* where *s* and *v* are the surface area and volume of the same cylinder, respectively. Recall that the surface area of a cylinder is $2\\pi r^2 + 2\\pi rh$, and the volume is $\\pi r^2h$. Assume that *r* and *h* are 1 by 1 float."
   ]
  },
  {
   "cell_type": "code",
   "execution_count": null,
   "id": "37a8b31b",
   "metadata": {},
   "outputs": [],
   "source": [
    "def my_cylinder(r, h):\n",
    "    s = 2*np.pi*r**2 + 2*np.pi*r*h\n",
    "    v = np.pi*r**2*h\n",
    "    return [s, v]"
   ]
  },
  {
   "cell_type": "code",
   "execution_count": null,
   "id": "13346706",
   "metadata": {},
   "outputs": [],
   "source": [
    "my_cylinder(1,5)"
   ]
  },
  {
   "cell_type": "code",
   "execution_count": null,
   "id": "fd04ccde",
   "metadata": {},
   "outputs": [],
   "source": [
    "my_cylinder(2,4)"
   ]
  },
  {
   "cell_type": "markdown",
   "id": "e20aaa5e",
   "metadata": {},
   "source": [
    "5. Write a function $bounding\\_array(A, top, bottom)$, where the output is equal to the array *A* wherever *bottom < A < top*, the output is equal to *bottom* wherever *A <= bottom*, and the output is equal to *top* wherever *A >= top*. Assume that *A* is one-dimensional float array and that *top* and *bottom* are 1 by 1 floats. "
   ]
  },
  {
   "cell_type": "code",
   "execution_count": null,
   "id": "a1536c64",
   "metadata": {
    "scrolled": true
   },
   "outputs": [],
   "source": [
    "def bounding_array(A, top, bottom):\n",
    "    out = []\n",
    "    for num in A:\n",
    "        if num <= bottom:\n",
    "            tmp = bottom\n",
    "        elif num >= top:\n",
    "            tmp = top\n",
    "        else:\n",
    "            tmp = num\n",
    "            \n",
    "        out.append(tmp)\n",
    "    return out"
   ]
  },
  {
   "cell_type": "code",
   "execution_count": null,
   "id": "9d2e6c71",
   "metadata": {
    "scrolled": true
   },
   "outputs": [],
   "source": [
    "bounding_array(np.arange(-5, 6), 3, -3)"
   ]
  },
  {
   "cell_type": "markdown",
   "id": "3d281799",
   "metadata": {},
   "source": [
    "6. Write a function my_make_size10(x), where x is an array and output is the first 10 elements of x if x has more than 10 elements, and output is the array x padded with enough zeros to make it length 10 if x has less than 10 elements."
   ]
  },
  {
   "cell_type": "code",
   "execution_count": null,
   "id": "c7de16b3",
   "metadata": {},
   "outputs": [],
   "source": [
    "def my_make_size10(x):\n",
    "    if len(x) > 10:\n",
    "        size10 = x[:10]\n",
    "    else:\n",
    "        size10 = np.zeros(10)\n",
    "        size10[:len(x)] = x\n",
    "    \n",
    "    return size10"
   ]
  },
  {
   "cell_type": "code",
   "execution_count": null,
   "id": "8348d2e1",
   "metadata": {},
   "outputs": [],
   "source": [
    "# Output: [1,2,0,0,0,0,0,0,0,0]\n",
    "my_make_size10(np.arange(1,3))"
   ]
  },
  {
   "cell_type": "code",
   "execution_count": null,
   "id": "b3c69e4a",
   "metadata": {},
   "outputs": [],
   "source": [
    "# Output: [1,2,3,4,5,6,7,8,9,10]\n",
    "my_make_size10(np.arange(1,15))"
   ]
  },
  {
   "cell_type": "code",
   "execution_count": null,
   "id": "796df7dd",
   "metadata": {},
   "outputs": [],
   "source": [
    "# Output: [3,6,13,4,0,0,0,0,0,0]\n",
    "my_make_size10(np.array([3, 6, 13, 4]))"
   ]
  },
  {
   "cell_type": "markdown",
   "id": "8d96aff4",
   "metadata": {},
   "source": [
    "7. Plot the functions $y_1(x) = 3 + \\exp{(-x)}\\sin{(6x)}$ and $y_2(x) = 4 + \\exp{(-x)}\\cos{(6x)}$ for $0 \\le x \\le 5$ on a single axis. Give the plot axis labels, a title, and a legend."
   ]
  },
  {
   "cell_type": "code",
   "execution_count": null,
   "id": "89f906da",
   "metadata": {},
   "outputs": [],
   "source": [
    "import matplotlib.pyplot as plt\n",
    "\n",
    "y1 = lambda x: 3 + np.exp(-x)*np.sin(6*x)\n",
    "y2 = lambda x: 4 + np.exp(-x)*np.cos(6*x)\n",
    "\n",
    "x = np.linspace(0, 5, 100)\n",
    "plt.plot(x, y1(x), label='y1')\n",
    "plt.plot(x, y2(x), label='y2')\n",
    "plt.xlabel('x')\n",
    "plt.ylabel('functions')\n",
    "plt.legend()\n",
    "plt.title('Plot for functions y1 and y2')\n",
    "plt.show()"
   ]
  }
 ],
 "metadata": {
  "kernelspec": {
   "display_name": "Python 3 (ipykernel)",
   "language": "python",
   "name": "python3"
  },
  "language_info": {
   "codemirror_mode": {
    "name": "ipython",
    "version": 3
   },
   "file_extension": ".py",
   "mimetype": "text/x-python",
   "name": "python",
   "nbconvert_exporter": "python",
   "pygments_lexer": "ipython3",
   "version": "3.9.7"
  }
 },
 "nbformat": 4,
 "nbformat_minor": 5
}

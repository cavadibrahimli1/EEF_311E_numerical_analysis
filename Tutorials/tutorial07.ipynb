{
 "cells": [
  {
   "cell_type": "markdown",
   "id": "6562e0dd",
   "metadata": {},
   "source": [
    "# Tutorial #7"
   ]
  },
  {
   "cell_type": "markdown",
   "id": "7c797cbd",
   "metadata": {},
   "source": [
    "1. Write a function `my_num_diff(f,a,b,n,option)` with the output as `[dy,X]`, where `f` is a function object. The function `my_num_diff` should compute the derivative of `f` numerically for `n` evenly spaced points starting at `a` and ending at `b`, according to the method defined by `option`. The input argument `option` is one of the following strings: `\"forward\"`, `\"backward\"`, and `\"central\"`. Note that for the forward and backward method, the output argument, `dy`, should be a 1D array of length $n - 1$, and for the central difference method `dy` it should be a 1D array of length $n - 2$. The function should also output a vector `X` that is the same size as `dy` and denotes the $x$-values for which `dy` is valid."
   ]
  },
  {
   "cell_type": "code",
   "execution_count": null,
   "id": "3272959f",
   "metadata": {},
   "outputs": [],
   "source": [
    "import numpy as np\n",
    "\n",
    "def my_num_diff(f,a,b,n,option):\n",
    "    X, h = np.linspace(a, b, n, retstep=True)\n",
    "    \n",
    "    if option == \"forward\":\n",
    "        dy = (f(X[1:])-f(X[:-1]))/h\n",
    "        X = X[:-1]\n",
    "    elif option == \"backward\":\n",
    "        dy = (f(X[1:])-f(X[:-1]))/h\n",
    "        X = X[1:]\n",
    "    elif option == \"central\":\n",
    "        dy = (f(X[2:])-f(X[:-2]))/(2*h)\n",
    "        X = X[1:-1]\n",
    "        \n",
    "    return dy, X"
   ]
  },
  {
   "cell_type": "code",
   "execution_count": null,
   "id": "73ab7a48",
   "metadata": {},
   "outputs": [],
   "source": [
    "# Test case #1\n",
    "import matplotlib.pyplot as plt\n",
    "\n",
    "x = np.linspace(0, 2*np.pi, 100)\n",
    "f = lambda x: np.sin(x)\n",
    "[dyf, Xf] = my_num_diff(f, 0, 2*np.pi, 10, \"forward\")\n",
    "[dyb, Xb] = my_num_diff(f, 0, 2*np.pi, 10, \"backward\")\n",
    "[dyc, Xc] = my_num_diff(f, 0, 2*np.pi, 10, \"central\")\n",
    "plt.figure(figsize = (12, 8))\n",
    "plt.plot(x, np.cos(x), label = \"analytic\")\n",
    "plt.plot(Xf, dyf, label = \"forward\")\n",
    "plt.plot(Xb, dyb, label = \"backward\")\n",
    "plt.plot(Xc, dyc, label = \"central\")\n",
    "plt.legend()\n",
    "plt.title(\"Analytic and Numerical Derivatives of Sine\")\n",
    "plt.xlabel(\"x\")\n",
    "plt.ylabel(\"y\")\n",
    "plt.show()"
   ]
  },
  {
   "cell_type": "code",
   "execution_count": null,
   "id": "19606090",
   "metadata": {
    "scrolled": false
   },
   "outputs": [],
   "source": [
    "x = np.linspace(0, np.pi, 1000)\n",
    "f = lambda x: np.sin(np.exp(x))\n",
    "[dy10, X10] = my_num_diff(f, 0, np.pi, 10, \"central\")\n",
    "[dy20, X20] = my_num_diff(f, 0, np.pi, 20, \"central\")\n",
    "[dy100, X100] = my_num_diff(f, 0, np.pi, 100, \"central\")\n",
    "plt.figure(figsize = (12, 8))\n",
    "plt.plot(x, np.exp(x)*np.cos(np.exp(x)), label = \"analytic\")\n",
    "plt.plot(X10, dy10, label = \"10 points\")\n",
    "plt.plot(X20, dy20, label = \"20 points\")\n",
    "plt.plot(X100, dy100, label = \"100 points\")\n",
    "plt.legend()\n",
    "plt.title(\"Analytic and Numerical Derivatives of Sine\")\n",
    "plt.xlabel(\"x\")\n",
    "plt.ylabel(\"y\")\n",
    "plt.show()"
   ]
  },
  {
   "cell_type": "markdown",
   "id": "7430cc54",
   "metadata": {},
   "source": [
    "2. Write a function `my_num_diff_w_smoothing(x,y,n)` with output `[dy,X]`, where `x` and `y` are a 1D `NumPy` array of the same length, and `n` is a strictly positive scalar. The function should first create a vector of “smoothed” `y` data points where `y_smooth[i] = np.mean(y[i-n:i+n])`. The function should then compute `dy`, the derivative of the smoothed $y$-vector, using the central difference method. The function should also output a 1D array `X` that is the same size as `dy` and denotes the $x$-values for which `dy` is valid.\n",
    "\n",
    "    Assume that the data contained in `x` is in ascending order with no duplicate entries; it is possible that the elements of `x` will not be evenly spaced. Note that the output `dy` will have $2n + 2$ fewer points than `y`. Assume that the length of `y` is much bigger than $2n + 2$."
   ]
  },
  {
   "cell_type": "code",
   "execution_count": null,
   "id": "a03dda46",
   "metadata": {},
   "outputs": [],
   "source": [
    "def my_num_diff_w_smoothing(x,y,n):\n",
    "    y_smooth = np.array([np.mean(y[i-n:i+n+1]) for i in range(n,len(y)-n)])\n",
    "    X = x[n:-n]\n",
    "    \n",
    "    dy = (y_smooth[2:]-y_smooth[:-2])/(X[2:] - X[:-2])\n",
    "    X = X[1:-1]\n",
    "    \n",
    "    return dy, X"
   ]
  },
  {
   "cell_type": "code",
   "execution_count": null,
   "id": "db9e899a",
   "metadata": {},
   "outputs": [],
   "source": [
    "# Test Case\n",
    "\n",
    "x = np.linspace(0, 2*np.pi, 100)\n",
    "y = np.sin(x) + np.random.randn(len(x))/100\n",
    "[dy, X] = my_num_diff_w_smoothing(x, y, 4)\n",
    "plt.figure(figsize = (12, 12))\n",
    "plt.subplot(211)\n",
    "plt.plot(x, y)\n",
    "plt.title(\"Noisy Sine function\")\n",
    "plt.xlabel(\"x\")\n",
    "plt.ylabel(\"y\")\n",
    "plt.subplot(212)\n",
    "plt.plot(x, np.cos(x), \"b\", label = \"cosine\")\n",
    "plt.plot(x[:-1], (y[1:] - y[:-1])/(x[1]-x[0]), \"g\", \\\n",
    "         label = \"unsmoothed forward diff\")\n",
    "plt.plot(X, dy, \"r\", label = \"smoothed\")\n",
    "plt.title(\"Analytic Derivative and Smoothed Derivative\")\n",
    "plt.xlabel(\"x\")\n",
    "plt.ylabel(\"y\")\n",
    "plt.legend()\n",
    "plt.tight_layout()\n",
    "plt.show()"
   ]
  },
  {
   "cell_type": "code",
   "execution_count": null,
   "id": "fa865033",
   "metadata": {},
   "outputs": [],
   "source": []
  }
 ],
 "metadata": {
  "kernelspec": {
   "display_name": "Python 3 (ipykernel)",
   "language": "python",
   "name": "python3"
  },
  "language_info": {
   "codemirror_mode": {
    "name": "ipython",
    "version": 3
   },
   "file_extension": ".py",
   "mimetype": "text/x-python",
   "name": "python",
   "nbconvert_exporter": "python",
   "pygments_lexer": "ipython3",
   "version": "3.9.18"
  }
 },
 "nbformat": 4,
 "nbformat_minor": 5
}
